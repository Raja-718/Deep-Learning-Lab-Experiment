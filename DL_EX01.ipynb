{
  "nbformat": 4,
  "nbformat_minor": 0,
  "metadata": {
    "colab": {
      "provenance": [],
      "gpuType": "T4"
    },
    "kernelspec": {
      "name": "python3",
      "display_name": "Python 3"
    },
    "language_info": {
      "name": "python"
    },
    "accelerator": "GPU"
  },
  "cells": [
    {
      "cell_type": "code",
      "execution_count": 3,
      "metadata": {
        "colab": {
          "base_uri": "https://localhost:8080/"
        },
        "id": "6cbTZoFpbhhx",
        "outputId": "77673cf4-b4bf-438f-eee4-3ed782d985e6"
      },
      "outputs": [
        {
          "output_type": "stream",
          "name": "stdout",
          "text": [
            "Epoch 1\n",
            "Input: [0 0], Label: 0, Predicted: 1, Updated Weights: [-0.1  0.   0. ]\n",
            "Input: [0 1], Label: 0, Predicted: 0, Updated Weights: [-0.1  0.   0. ]\n",
            "Input: [1 0], Label: 0, Predicted: 0, Updated Weights: [-0.1  0.   0. ]\n",
            "Input: [1 1], Label: 1, Predicted: 0, Updated Weights: [0.  0.1 0.1]\n",
            "\n",
            "Epoch 2\n",
            "Input: [0 0], Label: 0, Predicted: 1, Updated Weights: [-0.1  0.1  0.1]\n",
            "Input: [0 1], Label: 0, Predicted: 1, Updated Weights: [-0.2  0.1  0. ]\n",
            "Input: [1 0], Label: 0, Predicted: 0, Updated Weights: [-0.2  0.1  0. ]\n",
            "Input: [1 1], Label: 1, Predicted: 0, Updated Weights: [-0.1  0.2  0.1]\n",
            "\n",
            "Epoch 3\n",
            "Input: [0 0], Label: 0, Predicted: 0, Updated Weights: [-0.1  0.2  0.1]\n",
            "Input: [0 1], Label: 0, Predicted: 1, Updated Weights: [-0.2  0.2  0. ]\n",
            "Input: [1 0], Label: 0, Predicted: 1, Updated Weights: [-0.3  0.1  0. ]\n",
            "Input: [1 1], Label: 1, Predicted: 0, Updated Weights: [-0.2  0.2  0.1]\n",
            "\n",
            "Epoch 4\n",
            "Input: [0 0], Label: 0, Predicted: 0, Updated Weights: [-0.2  0.2  0.1]\n",
            "Input: [0 1], Label: 0, Predicted: 0, Updated Weights: [-0.2  0.2  0.1]\n",
            "Input: [1 0], Label: 0, Predicted: 0, Updated Weights: [-0.2  0.2  0.1]\n",
            "Input: [1 1], Label: 1, Predicted: 1, Updated Weights: [-0.2  0.2  0.1]\n",
            "\n",
            "Epoch 5\n",
            "Input: [0 0], Label: 0, Predicted: 0, Updated Weights: [-0.2  0.2  0.1]\n",
            "Input: [0 1], Label: 0, Predicted: 0, Updated Weights: [-0.2  0.2  0.1]\n",
            "Input: [1 0], Label: 0, Predicted: 0, Updated Weights: [-0.2  0.2  0.1]\n",
            "Input: [1 1], Label: 1, Predicted: 1, Updated Weights: [-0.2  0.2  0.1]\n",
            "\n",
            "Epoch 6\n",
            "Input: [0 0], Label: 0, Predicted: 0, Updated Weights: [-0.2  0.2  0.1]\n",
            "Input: [0 1], Label: 0, Predicted: 0, Updated Weights: [-0.2  0.2  0.1]\n",
            "Input: [1 0], Label: 0, Predicted: 0, Updated Weights: [-0.2  0.2  0.1]\n",
            "Input: [1 1], Label: 1, Predicted: 1, Updated Weights: [-0.2  0.2  0.1]\n",
            "\n",
            "Epoch 7\n",
            "Input: [0 0], Label: 0, Predicted: 0, Updated Weights: [-0.2  0.2  0.1]\n",
            "Input: [0 1], Label: 0, Predicted: 0, Updated Weights: [-0.2  0.2  0.1]\n",
            "Input: [1 0], Label: 0, Predicted: 0, Updated Weights: [-0.2  0.2  0.1]\n",
            "Input: [1 1], Label: 1, Predicted: 1, Updated Weights: [-0.2  0.2  0.1]\n",
            "\n",
            "Epoch 8\n",
            "Input: [0 0], Label: 0, Predicted: 0, Updated Weights: [-0.2  0.2  0.1]\n",
            "Input: [0 1], Label: 0, Predicted: 0, Updated Weights: [-0.2  0.2  0.1]\n",
            "Input: [1 0], Label: 0, Predicted: 0, Updated Weights: [-0.2  0.2  0.1]\n",
            "Input: [1 1], Label: 1, Predicted: 1, Updated Weights: [-0.2  0.2  0.1]\n",
            "\n",
            "Epoch 9\n",
            "Input: [0 0], Label: 0, Predicted: 0, Updated Weights: [-0.2  0.2  0.1]\n",
            "Input: [0 1], Label: 0, Predicted: 0, Updated Weights: [-0.2  0.2  0.1]\n",
            "Input: [1 0], Label: 0, Predicted: 0, Updated Weights: [-0.2  0.2  0.1]\n",
            "Input: [1 1], Label: 1, Predicted: 1, Updated Weights: [-0.2  0.2  0.1]\n",
            "\n",
            "Epoch 10\n",
            "Input: [0 0], Label: 0, Predicted: 0, Updated Weights: [-0.2  0.2  0.1]\n",
            "Input: [0 1], Label: 0, Predicted: 0, Updated Weights: [-0.2  0.2  0.1]\n",
            "Input: [1 0], Label: 0, Predicted: 0, Updated Weights: [-0.2  0.2  0.1]\n",
            "Input: [1 1], Label: 1, Predicted: 1, Updated Weights: [-0.2  0.2  0.1]\n",
            "\n",
            "Final Predictions:\n",
            "Input: [0 0], Predicted: 0\n",
            "Input: [0 1], Predicted: 0\n",
            "Input: [1 0], Predicted: 0\n",
            "Input: [1 1], Predicted: 1\n"
          ]
        }
      ],
      "source": [
        "'''Introduction to Neural Networks and Perceptron Training\n",
        "In this experiment, students will learn the basics of neural networks by training a simple perceptron to classify linearly separable data.'''\n",
        "\n",
        "import numpy as np\n",
        "\n",
        "# Activation Function: Step function\n",
        "def step_function(x):\n",
        "    return 1 if x >= 0 else 0\n",
        "\n",
        "# Perceptron Model\n",
        "class Perceptron:\n",
        "    def __init__(self, input_size, learning_rate=0.1):\n",
        "        self.weights = np.zeros(input_size + 1)  # +1 for bias\n",
        "        self.learning_rate = learning_rate\n",
        "\n",
        "    def predict(self, x):\n",
        "        x = np.insert(x, 0, 1)  # Insert bias=1 at beginning\n",
        "        weighted_sum = np.dot(self.weights, x)\n",
        "        return step_function(weighted_sum)\n",
        "\n",
        "    def train(self, X, y, epochs=10):\n",
        "        for epoch in range(epochs):\n",
        "            print(f\"Epoch {epoch+1}\")\n",
        "            for inputs, label in zip(X, y):\n",
        "                x = np.insert(inputs, 0, 1)  # Insert bias\n",
        "                prediction = self.predict(inputs)\n",
        "                error = label - prediction\n",
        "                self.weights += self.learning_rate * error * x\n",
        "                print(f\"Input: {inputs}, Label: {label}, Predicted: {prediction}, Updated Weights: {self.weights}\")\n",
        "            print()\n",
        "\n",
        "# Linearly separable data (AND logic gate)\n",
        "X = np.array([[0,0], [0,1], [1,0], [1,1]])\n",
        "y = np.array([0, 0, 0, 1])  # AND gate output\n",
        "\n",
        "# Create and train perceptron\n",
        "p = Perceptron(input_size=2)\n",
        "p.train(X, y)\n",
        "\n",
        "# Final predictions\n",
        "print(\"Final Predictions:\")\n",
        "for x in X:\n",
        "    print(f\"Input: {x}, Predicted: {p.predict(x)}\")\n"
      ]
    },
    {
      "cell_type": "code",
      "source": [],
      "metadata": {
        "id": "-tlQZCmU58jD"
      },
      "execution_count": null,
      "outputs": []
    }
  ]
}